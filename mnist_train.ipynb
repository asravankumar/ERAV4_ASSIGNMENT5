{
  "nbformat": 4,
  "nbformat_minor": 0,
  "metadata": {
    "colab": {
      "provenance": [],
      "gpuType": "T4"
    },
    "kernelspec": {
      "name": "python3",
      "display_name": "Python 3"
    },
    "language_info": {
      "name": "python"
    },
    "accelerator": "GPU"
  },
  "cells": [
    {
      "cell_type": "code",
      "execution_count": 23,
      "metadata": {
        "colab": {
          "base_uri": "https://localhost:8080/"
        },
        "id": "A4SvWjZWF4t3",
        "outputId": "616b7180-c8a9-4761-a666-4d274039a99a"
      },
      "outputs": [
        {
          "output_type": "execute_result",
          "data": {
            "text/plain": [
              "<torch._C.Generator at 0x7cf7198a8490>"
            ]
          },
          "metadata": {},
          "execution_count": 23
        }
      ],
      "source": [
        "import torch\n",
        "import torch.nn as nn\n",
        "import torch.optim as optim\n",
        "import torch.nn.functional as F\n",
        "from tqdm import tqdm\n",
        "from torchvision import datasets, transforms\n",
        "from torchsummary import summary\n",
        "from datetime import datetime\n",
        "import os\n",
        "import random\n",
        "import matplotlib.pyplot as plt\n",
        "\n",
        "\n",
        "torch.manual_seed(21)\n"
      ]
    },
    {
      "cell_type": "code",
      "source": [
        "class Network(nn.Module):\n",
        "    def __init__(self):\n",
        "        super(Network, self).__init__()\n",
        "\n",
        "        self.conv1 = nn.Conv2d(1, 8, kernel_size=3, padding=1)\n",
        "        self.bn1 = nn.BatchNorm2d(8)\n",
        "\n",
        "        self.conv2 = nn.Conv2d(8, 16, kernel_size=3, padding=1)\n",
        "        self.bn2   = nn.BatchNorm2d(16)\n",
        "\n",
        "        self.conv3 = nn.Conv2d(16, 16, kernel_size=3, padding=1)\n",
        "        self.bn3 = nn.BatchNorm2d(16)\n",
        "\n",
        "        self.pool1 = nn.MaxPool2d(2, 2)\n",
        "        self.bn_pool1 = nn.BatchNorm2d(16)\n",
        "\n",
        "        self.dropout1 = nn.Dropout2d(p=0.05)\n",
        "\n",
        "        self.conv1x11 = nn.Conv2d(16, 8, kernel_size=1)\n",
        "        self.bn_conv1x11 = nn.BatchNorm2d(8)\n",
        "\n",
        "        self.conv4 = nn.Conv2d(8, 16, kernel_size=3, padding=1)\n",
        "        self.bn4 = nn.BatchNorm2d(16)\n",
        "\n",
        "        self.conv5 = nn.Conv2d(16, 16, kernel_size=3, padding=1)\n",
        "        self.bn5 = nn.BatchNorm2d(16)\n",
        "\n",
        "        self.pool2 = nn.MaxPool2d(2, 2)\n",
        "        self.bn_pool2 = nn.BatchNorm2d(16)\n",
        "\n",
        "        #self.dropout2 = nn.Dropout2d(p=0.05)\n",
        "\n",
        "        self.conv1x12 = nn.Conv2d(16, 8, kernel_size=1)\n",
        "        self.bn_conv1x12 = nn.BatchNorm2d(8)\n",
        "\n",
        "        self.conv6 = nn.Conv2d(8, 16, kernel_size=3, padding=1)\n",
        "        self.bn6 = nn.BatchNorm2d(16)\n",
        "\n",
        "        # self.conv7 = nn.Conv2d(16, 16, kernel_size=3, padding=0)\n",
        "        # self.bn7 = nn.BatchNorm2d(16)\n",
        "\n",
        "        self.conv8 = nn.Conv2d(16, 10, kernel_size=3, padding=0)\n",
        "\n",
        "        self.gap = nn.AdaptiveAvgPool2d(1)\n",
        "\n",
        "        self.relu = nn.ReLU()\n",
        "\n",
        "    def forward(self, x):\n",
        "        x = self.conv1(x)\n",
        "        x = self.bn1(x)\n",
        "        x = self.relu(x)\n",
        "\n",
        "        x = self.conv2(x)\n",
        "        x = self.bn2(x)\n",
        "        x = self.relu(x)\n",
        "\n",
        "        x = self.conv3(x)\n",
        "        x = self.bn3(x)\n",
        "        x = self.relu(x)\n",
        "\n",
        "        x = self.pool1(x)\n",
        "        x = self.bn_pool1(x)\n",
        "\n",
        "        x = self.dropout1(x)\n",
        "\n",
        "        x = self.conv1x11(x)\n",
        "        x = self.bn_conv1x11(x)\n",
        "\n",
        "        x = self.conv4(x)\n",
        "        x = self.bn4(x)\n",
        "        x = self.relu(x)\n",
        "\n",
        "        x = self.conv5(x)\n",
        "        x = self.bn5(x)\n",
        "        x = self.relu(x)\n",
        "\n",
        "        x = self.pool2(x)\n",
        "        x = self.bn_pool2(x)\n",
        "\n",
        "        #x = self.dropout2(x)\n",
        "\n",
        "        x = self.conv1x12(x)\n",
        "        x = self.bn_conv1x12(x)\n",
        "\n",
        "        x = self.conv6(x)\n",
        "        x = self.bn6(x)\n",
        "        x = self.relu(x)\n",
        "\n",
        "        # x = self.conv7(x)\n",
        "        # x = self.bn7(x)\n",
        "        # x = self.relu(x)\n",
        "\n",
        "        x = self.conv8(x)\n",
        "        x = self.gap(x)\n",
        "        x = x.view(-1, 10)\n",
        "        return F.log_softmax(x, dim=1)"
      ],
      "metadata": {
        "id": "Suc-BRJpF9pA"
      },
      "execution_count": 24,
      "outputs": []
    },
    {
      "cell_type": "code",
      "source": [
        "class RandomAugmentationOld:\n",
        "    \"\"\"Custom augmentation that randomly applies different transformations\"\"\"\n",
        "    def __init__(self, p=0.7):\n",
        "        self.p = p\n",
        "        self.affine = transforms.RandomAffine(\n",
        "            degrees=15,\n",
        "            translate=(0.1, 0.1),\n",
        "            scale=(0.9, 1.1),\n",
        "            fill=0\n",
        "        )\n",
        "        self.rotate = transforms.RandomRotation(20, fill=0)\n",
        "\n",
        "    def add_noise(self, img):\n",
        "        \"\"\"Add random Gaussian noise\"\"\"\n",
        "        noise = torch.randn_like(img) * 0.1\n",
        "        noisy_img = img + noise\n",
        "        return torch.clamp(noisy_img, 0., 1.)\n",
        "\n",
        "    def __call__(self, img):\n",
        "        if random.random() > self.p:\n",
        "            return img\n",
        "        aug_type = random.choice(['affine', 'rotate', 'noise'])\n",
        "        if aug_type == 'affine':\n",
        "            return self.affine(img)\n",
        "        elif aug_type == 'rotate':\n",
        "            return self.rotate(img)\n",
        "        else:\n",
        "            return self.add_noise(img)\n",
        "\n",
        "class RandomAugmentation:\n",
        "    \"\"\"\n",
        "    Custom augmentation that randomly applies a sequence of transformations\n",
        "    to grayscale images, such as MNIST digits.\n",
        "    \"\"\"\n",
        "    def __init__(self, p=0.7):\n",
        "        self.p = p  # Probability of applying any augmentation\n",
        "\n",
        "        # Define all available individual transforms\n",
        "        self.transforms_list = [\n",
        "            # 1. Randomly rotate the image by a specified degree range\n",
        "            transforms.RandomRotation(degrees=10),\n",
        "\n",
        "            # 2. Apply random affine transformations (rotations, translations, scaling)\n",
        "            transforms.RandomAffine(\n",
        "                degrees=10,\n",
        "                translate=(0.1, 0.1),  # Up to 10% translation\n",
        "                scale=(0.9, 1.1),      # Scaling between 90% and 110%\n",
        "                shear=10               # Shearing by 10 degrees\n",
        "            ),\n",
        "\n",
        "            # 3. Randomly shift the image by cropping a random portion\n",
        "            transforms.RandomResizedCrop(\n",
        "                size=28,  # Maintain the original image size for MNIST\n",
        "                scale=(0.8, 1.0),\n",
        "                ratio=(0.9, 1.1)\n",
        "            ),\n",
        "\n",
        "            # 4. Apply a random perspective transform\n",
        "            transforms.RandomPerspective(distortion_scale=0.2, p=1.0),\n",
        "\n",
        "            # 5. Simulate a change in brightness/contrast (effective even on grayscale)\n",
        "            transforms.ColorJitter(brightness=0.2, contrast=0.2),\n",
        "\n",
        "            # 6. Randomly erase a small portion of the image to force the model to learn from partial data\n",
        "            transforms.RandomErasing(p=1.0, scale=(0.02, 0.1), ratio=(0.3, 3.3))\n",
        "        ]\n",
        "\n",
        "    def add_noise(self, img):\n",
        "        \"\"\"Add random Gaussian noise to a PyTorch tensor.\"\"\"\n",
        "        noise = torch.randn_like(img) * 0.1\n",
        "        noisy_img = img + noise\n",
        "        return torch.clamp(noisy_img, 0., 1.)\n",
        "\n",
        "    def __call__(self, img):\n",
        "        \"\"\"Applies a random number of augmentations (1 or 2) from the list.\"\"\"\n",
        "\n",
        "        # With probability (1-p), return the original image\n",
        "        if random.random() > self.p:\n",
        "            return img\n",
        "\n",
        "        # Randomly decide how many augmentations to apply (1 or 2)\n",
        "        num_augmentations = random.randint(1, 2)\n",
        "\n",
        "        # Select a random subset of transformations without replacement\n",
        "        transforms_to_apply = random.sample(self.transforms_list, num_augmentations)\n",
        "\n",
        "        # Add noise as a separate, potential augmentation, not a core choice\n",
        "        if random.random() < 0.5: # 50% chance to also add noise\n",
        "            transforms_to_apply.append(self.add_noise)\n",
        "\n",
        "        # Apply the selected sequence of transformations\n",
        "        for transform in transforms_to_apply:\n",
        "            if callable(transform):\n",
        "                img = transform(img)\n",
        "            else:\n",
        "                img = transform(img)\n",
        "\n",
        "        return img\n",
        "\n",
        "\n",
        "\n",
        "\n",
        "def train_one_epoch(model, train_loader, criterion, optimizer, device):\n",
        "    \"\"\"Trains the model for one epoch and returns loss and accuracy.\"\"\"\n",
        "    model.train()\n",
        "    running_loss = 0.0\n",
        "    correct_preds = 0\n",
        "    total_samples_processed = 0\n",
        "\n",
        "    # Wrap the train_loader with tqdm\n",
        "    train_loader_tqdm = tqdm(train_loader, desc=\"Training\", unit=\"batch\")\n",
        "\n",
        "    for data, target in train_loader_tqdm:\n",
        "        data, target = data.to(device), target.to(device)\n",
        "        optimizer.zero_grad()\n",
        "        output = model(data)\n",
        "        loss = criterion(output, target)\n",
        "        loss.backward()\n",
        "        optimizer.step()\n",
        "\n",
        "        running_loss += loss.item() * data.size(0)\n",
        "        _, predicted = torch.max(output.data, 1)\n",
        "\n",
        "        # Update counters\n",
        "        total_samples_processed += data.size(0)\n",
        "        correct_preds += (predicted == target).sum().item()\n",
        "\n",
        "        # Calculate real-time batch accuracy to display in tqdm\n",
        "        if total_samples_processed > 0:\n",
        "            current_accuracy = 100. * correct_preds / total_samples_processed\n",
        "            train_loader_tqdm.set_postfix(loss=loss.item(), acc=f\"{current_accuracy:.2f}%\")\n",
        "\n",
        "    epoch_loss = running_loss / len(train_loader.dataset)\n",
        "    epoch_accuracy = 100. * correct_preds / len(train_loader.dataset)\n",
        "    return epoch_loss, epoch_accuracy\n",
        "\n",
        "def test(model, test_loader, criterion, device):\n",
        "    \"\"\"Evaluates the model on the test set and returns loss and accuracy.\"\"\"\n",
        "    model.eval()\n",
        "    test_loss = 0.0\n",
        "    correct_preds = 0\n",
        "    total_samples = 0\n",
        "\n",
        "    with torch.no_grad():\n",
        "        for data, target in test_loader:\n",
        "            data, target = data.to(device), target.to(device)\n",
        "            output = model(data)\n",
        "            test_loss += criterion(output, target).item() * data.size(0)\n",
        "            pred = output.argmax(dim=1, keepdim=True)\n",
        "            total_samples += target.size(0)\n",
        "            correct_preds += pred.eq(target.view_as(pred)).sum().item()\n",
        "\n",
        "    test_loss /= total_samples\n",
        "    test_accuracy = 100. * correct_preds / total_samples\n",
        "    return test_loss, test_accuracy\n",
        "\n",
        "def plot_metrics(train_losses, test_losses, train_accuracies, test_accuracies):\n",
        "    epochs = range(1, len(train_losses) + 1)\n",
        "\n",
        "    # Plotting Loss\n",
        "    plt.figure(figsize=(10, 5))\n",
        "    plt.plot(epochs, train_losses, label='Training Loss', marker='o')\n",
        "    plt.plot(epochs, test_losses, label='Testing Loss', marker='o')\n",
        "    plt.title('Training and Testing Loss per Epoch')\n",
        "    plt.xlabel('Epoch')\n",
        "    plt.ylabel('Loss')\n",
        "    plt.legend()\n",
        "    plt.grid(True)\n",
        "    plt.savefig('loss_plot.png')\n",
        "    plt.show()\n",
        "\n",
        "    # Plotting Accuracy\n",
        "    plt.figure(figsize=(10, 5))\n",
        "    plt.plot(epochs, train_accuracies, label='Training Accuracy', marker='o')\n",
        "    plt.plot(epochs, test_accuracies, label='Testing Accuracy', marker='o')\n",
        "    plt.title('Training and Testing Accuracy per Epoch')\n",
        "    plt.xlabel('Epoch')\n",
        "    plt.ylabel('Accuracy (%)')\n",
        "    plt.legend()\n",
        "    plt.grid(True)\n",
        "    plt.savefig('accuracy_plot.png')\n",
        "    plt.show()\n",
        "\n",
        "\n",
        "def perform(epochs=20):\n",
        "    device = torch.device(\"cuda\" if torch.cuda.is_available() else \"cpu\")\n",
        "    print(\"device\", device)\n",
        "    print(\"number of epochs\", epochs)\n",
        "    # Model, loss, and optimizer\n",
        "    model = Network().to(device)\n",
        "    print(f\"Total number of parameters: {sum(p.numel() for p in model.parameters())}\")\n",
        "\n",
        "    summary(model, input_size=(1, 28, 28))\n",
        "\n",
        "    # Data transformations\n",
        "    transform_train = transforms.Compose([\n",
        "        transforms.ToTensor(),\n",
        "        RandomAugmentation(p=0.4),\n",
        "        transforms.Normalize((0.1307,), (0.3081,))\n",
        "    ])\n",
        "    transform_test = transforms.Compose([\n",
        "        transforms.ToTensor(),\n",
        "        transforms.Normalize((0.1307,), (0.3081,))\n",
        "    ])\n",
        "\n",
        "    # Load datasets\n",
        "    train_dataset = datasets.MNIST('data', train=True, download=True, transform=transform_train)\n",
        "    test_dataset = datasets.MNIST('data', train=False, download=True, transform=transform_test)\n",
        "\n",
        "    train_loader = torch.utils.data.DataLoader(train_dataset, batch_size=256, shuffle=True)\n",
        "    test_loader = torch.utils.data.DataLoader(test_dataset, batch_size=1000, shuffle=False)\n",
        "\n",
        "\n",
        "\n",
        "    criterion = nn.NLLLoss()\n",
        "    optimizer = optim.Adam(model.parameters(), lr=0.001)\n",
        "    scheduler = optim.lr_scheduler.StepLR(optimizer, step_size=10, gamma=0.1)\n",
        "\n",
        "    # Lists to store metrics for plotting\n",
        "    train_losses = []\n",
        "    test_losses = []\n",
        "    train_accuracies = []\n",
        "    test_accuracies = []\n",
        "\n",
        "\n",
        "    # Training and testing loop\n",
        "    for epoch in range(1, epochs + 1):\n",
        "        print(\"-\" * 50)\n",
        "        print(f'Epoch {epoch}/{epochs}:')\n",
        "        train_loss, train_acc = train_one_epoch(model, train_loader, criterion, optimizer, device)\n",
        "        test_loss, test_acc = test(model, test_loader, criterion, device)\n",
        "\n",
        "        # Store metrics\n",
        "        train_losses.append(train_loss)\n",
        "        test_losses.append(test_loss)\n",
        "        train_accuracies.append(train_acc)\n",
        "        test_accuracies.append(test_acc)\n",
        "\n",
        "        print(f'  Train Loss: {train_loss:.4f}, Train Accuracy: {train_acc:.2f}%')\n",
        "        print(f'  Test Loss: {test_loss:.4f}, Test Accuracy: {test_acc:.2f}%')\n",
        "        print(\"-\" * 50)\n",
        "        scheduler.step()\n",
        "\n",
        "    # Save the final model\n",
        "    timestamp = datetime.now().strftime(\"%Y%m%d_%H%M%S\")\n",
        "    if not os.path.exists('models'):\n",
        "        os.makedirs('models')\n",
        "    torch.save(model.state_dict(), f'models/model_{timestamp}_acc{test_acc:.1f}.pth')\n",
        "    print(\"Training finished and model saved.\")\n",
        "\n",
        "    plot_metrics(train_losses, test_losses, train_accuracies, test_accuracies)\n",
        "\n",
        "perform(epochs=20)"
      ],
      "metadata": {
        "colab": {
          "base_uri": "https://localhost:8080/",
          "height": 1000
        },
        "id": "TfPO2qEPF_uY",
        "outputId": "f5b3ac83-a44f-4b7b-e2c4-091f10125de4"
      },
      "execution_count": 25,
      "outputs": [
        {
          "output_type": "stream",
          "name": "stdout",
          "text": [
            "device cuda\n",
            "number of epochs 20\n",
            "Total number of parameters: 10218\n",
            "----------------------------------------------------------------\n",
            "        Layer (type)               Output Shape         Param #\n",
            "================================================================\n",
            "            Conv2d-1            [-1, 8, 28, 28]              80\n",
            "       BatchNorm2d-2            [-1, 8, 28, 28]              16\n",
            "              ReLU-3            [-1, 8, 28, 28]               0\n",
            "            Conv2d-4           [-1, 16, 28, 28]           1,168\n",
            "       BatchNorm2d-5           [-1, 16, 28, 28]              32\n",
            "              ReLU-6           [-1, 16, 28, 28]               0\n",
            "            Conv2d-7           [-1, 16, 28, 28]           2,320\n",
            "       BatchNorm2d-8           [-1, 16, 28, 28]              32\n",
            "              ReLU-9           [-1, 16, 28, 28]               0\n",
            "        MaxPool2d-10           [-1, 16, 14, 14]               0\n",
            "      BatchNorm2d-11           [-1, 16, 14, 14]              32\n",
            "        Dropout2d-12           [-1, 16, 14, 14]               0\n",
            "           Conv2d-13            [-1, 8, 14, 14]             136\n",
            "      BatchNorm2d-14            [-1, 8, 14, 14]              16\n",
            "           Conv2d-15           [-1, 16, 14, 14]           1,168\n",
            "      BatchNorm2d-16           [-1, 16, 14, 14]              32\n",
            "             ReLU-17           [-1, 16, 14, 14]               0\n",
            "           Conv2d-18           [-1, 16, 14, 14]           2,320\n",
            "      BatchNorm2d-19           [-1, 16, 14, 14]              32\n",
            "             ReLU-20           [-1, 16, 14, 14]               0\n",
            "        MaxPool2d-21             [-1, 16, 7, 7]               0\n",
            "      BatchNorm2d-22             [-1, 16, 7, 7]              32\n",
            "           Conv2d-23              [-1, 8, 7, 7]             136\n",
            "      BatchNorm2d-24              [-1, 8, 7, 7]              16\n",
            "           Conv2d-25             [-1, 16, 7, 7]           1,168\n",
            "      BatchNorm2d-26             [-1, 16, 7, 7]              32\n",
            "             ReLU-27             [-1, 16, 7, 7]               0\n",
            "           Conv2d-28             [-1, 10, 5, 5]           1,450\n",
            "AdaptiveAvgPool2d-29             [-1, 10, 1, 1]               0\n",
            "================================================================\n",
            "Total params: 10,218\n",
            "Trainable params: 10,218\n",
            "Non-trainable params: 0\n",
            "----------------------------------------------------------------\n",
            "Input size (MB): 0.00\n",
            "Forward/backward pass size (MB): 0.99\n",
            "Params size (MB): 0.04\n",
            "Estimated Total Size (MB): 1.04\n",
            "----------------------------------------------------------------\n",
            "--------------------------------------------------\n",
            "Epoch 1/20:\n"
          ]
        },
        {
          "output_type": "stream",
          "name": "stderr",
          "text": [
            "Training: 100%|██████████| 235/235 [00:32<00:00,  7.16batch/s, acc=81.92%, loss=0.221]\n"
          ]
        },
        {
          "output_type": "stream",
          "name": "stdout",
          "text": [
            "  Train Loss: 0.7086, Train Accuracy: 81.92%\n",
            "  Test Loss: 0.1282, Test Accuracy: 96.92%\n",
            "--------------------------------------------------\n",
            "--------------------------------------------------\n",
            "Epoch 2/20:\n"
          ]
        },
        {
          "output_type": "stream",
          "name": "stderr",
          "text": [
            "Training: 100%|██████████| 235/235 [00:32<00:00,  7.19batch/s, acc=95.67%, loss=0.194]\n"
          ]
        },
        {
          "output_type": "stream",
          "name": "stdout",
          "text": [
            "  Train Loss: 0.1630, Train Accuracy: 95.67%\n",
            "  Test Loss: 0.0903, Test Accuracy: 97.46%\n",
            "--------------------------------------------------\n",
            "--------------------------------------------------\n",
            "Epoch 3/20:\n"
          ]
        },
        {
          "output_type": "stream",
          "name": "stderr",
          "text": [
            "Training: 100%|██████████| 235/235 [00:32<00:00,  7.13batch/s, acc=96.60%, loss=0.154]\n"
          ]
        },
        {
          "output_type": "stream",
          "name": "stdout",
          "text": [
            "  Train Loss: 0.1201, Train Accuracy: 96.60%\n",
            "  Test Loss: 0.0701, Test Accuracy: 97.85%\n",
            "--------------------------------------------------\n",
            "--------------------------------------------------\n",
            "Epoch 4/20:\n"
          ]
        },
        {
          "output_type": "stream",
          "name": "stderr",
          "text": [
            "Training: 100%|██████████| 235/235 [00:32<00:00,  7.26batch/s, acc=97.14%, loss=0.0971]\n"
          ]
        },
        {
          "output_type": "stream",
          "name": "stdout",
          "text": [
            "  Train Loss: 0.0960, Train Accuracy: 97.14%\n",
            "  Test Loss: 0.0456, Test Accuracy: 98.60%\n",
            "--------------------------------------------------\n",
            "--------------------------------------------------\n",
            "Epoch 5/20:\n"
          ]
        },
        {
          "output_type": "stream",
          "name": "stderr",
          "text": [
            "Training: 100%|██████████| 235/235 [00:32<00:00,  7.21batch/s, acc=97.48%, loss=0.12]\n"
          ]
        },
        {
          "output_type": "stream",
          "name": "stdout",
          "text": [
            "  Train Loss: 0.0849, Train Accuracy: 97.48%\n",
            "  Test Loss: 0.0398, Test Accuracy: 98.89%\n",
            "--------------------------------------------------\n",
            "--------------------------------------------------\n",
            "Epoch 6/20:\n"
          ]
        },
        {
          "output_type": "stream",
          "name": "stderr",
          "text": [
            "Training: 100%|██████████| 235/235 [00:32<00:00,  7.24batch/s, acc=97.88%, loss=0.0323]\n"
          ]
        },
        {
          "output_type": "stream",
          "name": "stdout",
          "text": [
            "  Train Loss: 0.0717, Train Accuracy: 97.88%\n",
            "  Test Loss: 0.0479, Test Accuracy: 98.51%\n",
            "--------------------------------------------------\n",
            "--------------------------------------------------\n",
            "Epoch 7/20:\n"
          ]
        },
        {
          "output_type": "stream",
          "name": "stderr",
          "text": [
            "Training: 100%|██████████| 235/235 [00:32<00:00,  7.15batch/s, acc=97.94%, loss=0.0214]\n"
          ]
        },
        {
          "output_type": "stream",
          "name": "stdout",
          "text": [
            "  Train Loss: 0.0677, Train Accuracy: 97.94%\n",
            "  Test Loss: 0.0496, Test Accuracy: 98.31%\n",
            "--------------------------------------------------\n",
            "--------------------------------------------------\n",
            "Epoch 8/20:\n"
          ]
        },
        {
          "output_type": "stream",
          "name": "stderr",
          "text": [
            "Training: 100%|██████████| 235/235 [00:32<00:00,  7.23batch/s, acc=98.06%, loss=0.0202]\n"
          ]
        },
        {
          "output_type": "stream",
          "name": "stdout",
          "text": [
            "  Train Loss: 0.0624, Train Accuracy: 98.06%\n",
            "  Test Loss: 0.0351, Test Accuracy: 98.83%\n",
            "--------------------------------------------------\n",
            "--------------------------------------------------\n",
            "Epoch 9/20:\n"
          ]
        },
        {
          "output_type": "stream",
          "name": "stderr",
          "text": [
            "Training: 100%|██████████| 235/235 [00:32<00:00,  7.21batch/s, acc=98.16%, loss=0.0261]\n"
          ]
        },
        {
          "output_type": "stream",
          "name": "stdout",
          "text": [
            "  Train Loss: 0.0599, Train Accuracy: 98.16%\n",
            "  Test Loss: 0.0307, Test Accuracy: 99.06%\n",
            "--------------------------------------------------\n",
            "--------------------------------------------------\n",
            "Epoch 10/20:\n"
          ]
        },
        {
          "output_type": "stream",
          "name": "stderr",
          "text": [
            "Training: 100%|██████████| 235/235 [00:32<00:00,  7.33batch/s, acc=98.30%, loss=0.139]\n"
          ]
        },
        {
          "output_type": "stream",
          "name": "stdout",
          "text": [
            "  Train Loss: 0.0564, Train Accuracy: 98.30%\n",
            "  Test Loss: 0.0356, Test Accuracy: 98.81%\n",
            "--------------------------------------------------\n",
            "--------------------------------------------------\n",
            "Epoch 11/20:\n"
          ]
        },
        {
          "output_type": "stream",
          "name": "stderr",
          "text": [
            "Training: 100%|██████████| 235/235 [00:32<00:00,  7.14batch/s, acc=98.50%, loss=0.0587]\n"
          ]
        },
        {
          "output_type": "stream",
          "name": "stdout",
          "text": [
            "  Train Loss: 0.0472, Train Accuracy: 98.50%\n",
            "  Test Loss: 0.0216, Test Accuracy: 99.37%\n",
            "--------------------------------------------------\n",
            "--------------------------------------------------\n",
            "Epoch 12/20:\n"
          ]
        },
        {
          "output_type": "stream",
          "name": "stderr",
          "text": [
            "Training: 100%|██████████| 235/235 [00:32<00:00,  7.17batch/s, acc=98.68%, loss=0.0353]\n"
          ]
        },
        {
          "output_type": "stream",
          "name": "stdout",
          "text": [
            "  Train Loss: 0.0441, Train Accuracy: 98.68%\n",
            "  Test Loss: 0.0210, Test Accuracy: 99.41%\n",
            "--------------------------------------------------\n",
            "--------------------------------------------------\n",
            "Epoch 13/20:\n"
          ]
        },
        {
          "output_type": "stream",
          "name": "stderr",
          "text": [
            "Training: 100%|██████████| 235/235 [00:32<00:00,  7.18batch/s, acc=98.66%, loss=0.0715]\n"
          ]
        },
        {
          "output_type": "stream",
          "name": "stdout",
          "text": [
            "  Train Loss: 0.0438, Train Accuracy: 98.66%\n",
            "  Test Loss: 0.0213, Test Accuracy: 99.37%\n",
            "--------------------------------------------------\n",
            "--------------------------------------------------\n",
            "Epoch 14/20:\n"
          ]
        },
        {
          "output_type": "stream",
          "name": "stderr",
          "text": [
            "Training: 100%|██████████| 235/235 [00:32<00:00,  7.17batch/s, acc=98.65%, loss=0.0506]\n"
          ]
        },
        {
          "output_type": "stream",
          "name": "stdout",
          "text": [
            "  Train Loss: 0.0434, Train Accuracy: 98.65%\n",
            "  Test Loss: 0.0223, Test Accuracy: 99.26%\n",
            "--------------------------------------------------\n",
            "--------------------------------------------------\n",
            "Epoch 15/20:\n"
          ]
        },
        {
          "output_type": "stream",
          "name": "stderr",
          "text": [
            "Training: 100%|██████████| 235/235 [00:33<00:00,  7.08batch/s, acc=98.67%, loss=0.0213]\n"
          ]
        },
        {
          "output_type": "stream",
          "name": "stdout",
          "text": [
            "  Train Loss: 0.0438, Train Accuracy: 98.67%\n",
            "  Test Loss: 0.0209, Test Accuracy: 99.38%\n",
            "--------------------------------------------------\n",
            "--------------------------------------------------\n",
            "Epoch 16/20:\n"
          ]
        },
        {
          "output_type": "stream",
          "name": "stderr",
          "text": [
            "Training: 100%|██████████| 235/235 [00:34<00:00,  6.88batch/s, acc=98.64%, loss=0.0622]\n"
          ]
        },
        {
          "output_type": "stream",
          "name": "stdout",
          "text": [
            "  Train Loss: 0.0436, Train Accuracy: 98.64%\n",
            "  Test Loss: 0.0212, Test Accuracy: 99.34%\n",
            "--------------------------------------------------\n",
            "--------------------------------------------------\n",
            "Epoch 17/20:\n"
          ]
        },
        {
          "output_type": "stream",
          "name": "stderr",
          "text": [
            "Training: 100%|██████████| 235/235 [00:32<00:00,  7.18batch/s, acc=98.67%, loss=0.0344]\n"
          ]
        },
        {
          "output_type": "stream",
          "name": "stdout",
          "text": [
            "  Train Loss: 0.0435, Train Accuracy: 98.67%\n",
            "  Test Loss: 0.0202, Test Accuracy: 99.35%\n",
            "--------------------------------------------------\n",
            "--------------------------------------------------\n",
            "Epoch 18/20:\n"
          ]
        },
        {
          "output_type": "stream",
          "name": "stderr",
          "text": [
            "Training: 100%|██████████| 235/235 [00:32<00:00,  7.19batch/s, acc=98.72%, loss=0.0266]\n"
          ]
        },
        {
          "output_type": "stream",
          "name": "stdout",
          "text": [
            "  Train Loss: 0.0423, Train Accuracy: 98.72%\n",
            "  Test Loss: 0.0206, Test Accuracy: 99.35%\n",
            "--------------------------------------------------\n",
            "--------------------------------------------------\n",
            "Epoch 19/20:\n"
          ]
        },
        {
          "output_type": "stream",
          "name": "stderr",
          "text": [
            "Training: 100%|██████████| 235/235 [00:33<00:00,  7.06batch/s, acc=98.74%, loss=0.00896]\n"
          ]
        },
        {
          "output_type": "stream",
          "name": "stdout",
          "text": [
            "  Train Loss: 0.0409, Train Accuracy: 98.74%\n",
            "  Test Loss: 0.0200, Test Accuracy: 99.32%\n",
            "--------------------------------------------------\n",
            "--------------------------------------------------\n",
            "Epoch 20/20:\n"
          ]
        },
        {
          "output_type": "stream",
          "name": "stderr",
          "text": [
            "Training: 100%|██████████| 235/235 [00:33<00:00,  7.11batch/s, acc=98.71%, loss=0.121]\n"
          ]
        },
        {
          "output_type": "stream",
          "name": "stdout",
          "text": [
            "  Train Loss: 0.0426, Train Accuracy: 98.71%\n",
            "  Test Loss: 0.0206, Test Accuracy: 99.31%\n",
            "--------------------------------------------------\n",
            "Training finished and model saved.\n"
          ]
        },
        {
          "output_type": "display_data",
          "data": {
            "text/plain": [
              "<Figure size 1000x500 with 1 Axes>"
            ],
            "image/png": "[encoded data removed]"
          },
          "metadata": {}
        },
        {
          "output_type": "display_data",
          "data": {
            "text/plain": [
              "<Figure size 1000x500 with 1 Axes>"
            ],
            "image/png": "[encoded data removed]"
          },
          "metadata": {}
        }
      ]
    },
    {
      "cell_type": "code",
      "source": [
        "import torch\n",
        "import torchvision\n",
        "from torchvision import datasets, transforms\n",
        "import matplotlib.pyplot as plt\n",
        "from collections import defaultdict\n",
        "\n",
        "# Define the transformations for the datasets.\n",
        "# We'll convert the images to tensors.\n",
        "transform_train = transforms.ToTensor()\n",
        "transform_test = transforms.ToTensor()\n",
        "\n",
        "# Load the MNIST datasets. The 'download=True' argument will download the\n",
        "# data if it is not already present in the 'data' directory.\n",
        "train_dataset = datasets.MNIST('data', train=True, download=True, transform=transform_train)\n",
        "test_dataset = datasets.MNIST('data', train=False, download=True, transform=transform_test)\n",
        "\n",
        "def analyze_and_plot_mnist():\n",
        "    \"\"\"\n",
        "    Analyzes the MNIST dataset by printing the number of entries\n",
        "    in the training and testing sets, and then plots a bar graph\n",
        "    showing the distribution of items in the training dataset.\n",
        "    \"\"\"\n",
        "    # --- Task 1: Print the number of data entries ---\n",
        "    print(\"--- Dataset Information ---\")\n",
        "    print(f\"Number of entries in the training dataset: {len(train_dataset)}\")\n",
        "    print(f\"Number of entries in the testing dataset: {len(test_dataset)}\")\n",
        "    print(\"-\" * 25)\n",
        "\n",
        "    # --- Task 2: Plot a graph showing the number of items in each category ---\n",
        "\n",
        "    # Count the number of samples for each digit (0-9) in the training dataset.\n",
        "    # We use a defaultdict to simplify counting.\n",
        "    category_counts = defaultdict(int)\n",
        "    for _, label in train_dataset:\n",
        "        category_counts[label] += 1\n",
        "\n",
        "    # Extract the labels (0-9) and their corresponding counts.\n",
        "    categories = sorted(category_counts.keys())\n",
        "    counts = [category_counts[c] for c in categories]\n",
        "\n",
        "    # Create the bar plot.\n",
        "    plt.figure(figsize=(10, 6))\n",
        "    plt.bar(categories, counts, color='skyblue')\n",
        "\n",
        "    # Add labels and title for clarity.\n",
        "    plt.xlabel(\"Digit Category\")\n",
        "    plt.ylabel(\"Number of Items\")\n",
        "    plt.title(\"Distribution of MNIST Digits in the Training Dataset\")\n",
        "    plt.xticks(categories)  # Ensure all digit labels are shown on the x-axis\n",
        "\n",
        "    # Add text labels on top of each bar for the exact count.\n",
        "    for i, count in enumerate(counts):\n",
        "        plt.text(i, count + 100, str(count), ha='center', va='bottom')\n",
        "\n",
        "    # Display the plot.\n",
        "    plt.tight_layout()\n",
        "    plt.show()\n",
        "\n",
        "# Call the function to run the analysis and plotting\n",
        "analyze_and_plot_mnist()\n"
      ],
      "metadata": {
        "colab": {
          "base_uri": "https://localhost:8080/",
          "height": 678
        },
        "id": "eQ8oiwvzVSkZ",
        "outputId": "dd008641-7f21-4b72-f838-c926b7e47dc1"
      },
      "execution_count": 26,
      "outputs": [
        {
          "output_type": "stream",
          "name": "stdout",
          "text": [
            "--- Dataset Information ---\n",
            "Number of entries in the training dataset: 60000\n",
            "Number of entries in the testing dataset: 10000\n",
            "-------------------------\n"
          ]
        },
        {
          "output_type": "display_data",
          "data": {
            "text/plain": [
              "<Figure size 1000x600 with 1 Axes>"
            ],
            "image/png": "[encoded data removed]"
          },
          "metadata": {}
        }
      ]
    }
  ]
}